{
 "cells": [
  {
   "cell_type": "markdown",
   "metadata": {},
   "source": [
    "### read file"
   ]
  },
  {
   "cell_type": "code",
   "execution_count": 11,
   "metadata": {},
   "outputs": [],
   "source": [
    "import pandas\n",
    "\n",
    "MULTI  = (\"Genre\", \"Actors\")\n",
    "INNER_SEP  = \"|\"\n",
    "\n",
    "def strip_all(iterable: list[str]) -> tuple:\n",
    "    return tuple(map(lambda x: x.strip(), iterable))\n",
    "\n",
    "datas = pandas.read_csv(\"IMDB-Movie-Data.csv\")\n",
    "for title in MULTI:\n",
    "    datas[title] = datas[title].apply(lambda x: strip_all(x.split(INNER_SEP)))\n",
    "\n",
    "actors_info = datas.explode(\"Actors\").groupby(\"Actors\")  # unpack the tuple data in the \"actors\" column"
   ]
  },
  {
   "cell_type": "markdown",
   "metadata": {},
   "source": [
    "### Question 1"
   ]
  },
  {
   "cell_type": "code",
   "execution_count": 12,
   "metadata": {},
   "outputs": [
    {
     "name": "stdout",
     "output_type": "stream",
     "text": [
      "Top-3 movies with the highest ratings in 2016: Dangal, Kimi no na wa, Koe no katachi\n"
     ]
    }
   ],
   "source": [
    "print(\n",
    "    \"Top-3 movies with the highest ratings in 2016:\", \n",
    "    \", \".join(datas[datas[\"Year\"] == 2016].dropna(subset=\"Rating\").nlargest(3, \"Rating\", keep=\"all\")[\"Title\"])\n",
    ")"
   ]
  },
  {
   "cell_type": "markdown",
   "metadata": {},
   "source": [
    "### Question 2"
   ]
  },
  {
   "cell_type": "code",
   "execution_count": 13,
   "metadata": {},
   "outputs": [
    {
     "name": "stdout",
     "output_type": "stream",
     "text": [
      "The actor generating the highest average revenue: Daisy Ridley, John Boyega\n"
     ]
    }
   ],
   "source": [
    "# average revenue = sum(revenue) / (the number of movies this actor has appeared in)\n",
    "print(\n",
    "    \"The actor generating the highest average revenue:\", \n",
    "    \", \".join(actors_info[\"Revenue (Millions)\"].mean().nlargest(1, keep=\"all\").dropna().index)\n",
    ")"
   ]
  },
  {
   "cell_type": "markdown",
   "metadata": {},
   "source": [
    "### Question 3"
   ]
  },
  {
   "cell_type": "code",
   "execution_count": 14,
   "metadata": {},
   "outputs": [
    {
     "name": "stdout",
     "output_type": "stream",
     "text": [
      "The average rating of Emma Watson’s movies: 7.175000000000001\n"
     ]
    }
   ],
   "source": [
    "print(\n",
    "    \"The average rating of Emma Watson’s movies:\", \n",
    "    actors_info.get_group(\"Emma Watson\")[\"Rating\"].mean(skipna=True)\n",
    ")"
   ]
  },
  {
   "cell_type": "markdown",
   "metadata": {},
   "source": [
    "### Question 4"
   ]
  },
  {
   "cell_type": "code",
   "execution_count": 15,
   "metadata": {},
   "outputs": [
    {
     "name": "stdout",
     "output_type": "stream",
     "text": [
      "Top-3 directors who collaborate with the most actors: Ridley Scott, M. Night Shyamalan, Danny Boyle, Paul W.S. Anderson\n"
     ]
    }
   ],
   "source": [
    "print(\n",
    "    \"Top-3 directors who collaborate with the most actors:\", \n",
    "    \", \".join(\n",
    "        datas.groupby(\"Director\")[\"Actors\"].apply(lambda x: len(set(x.explode()))).nlargest(3, keep=\"all\").dropna().index\n",
    "    )\n",
    ")"
   ]
  },
  {
   "cell_type": "markdown",
   "metadata": {},
   "source": [
    "### Question 5"
   ]
  },
  {
   "cell_type": "code",
   "execution_count": 16,
   "metadata": {},
   "outputs": [
    {
     "name": "stdout",
     "output_type": "stream",
     "text": [
      "Top-2 actors playing in the most genres of movies: Brad Pitt, Amy Adams, Chloe Grace Moretz, Hugh Jackman, Johnny Depp, Scarlett Johansson\n"
     ]
    }
   ],
   "source": [
    "print(\n",
    "    \"Top-2 actors playing in the most genres of movies:\", \n",
    "    \", \".join(\n",
    "        actors_info[\"Genre\"].apply(lambda x: len(set(x.explode()))).nlargest(2, keep=\"all\").dropna().index\n",
    "    )\n",
    ")"
   ]
  },
  {
   "cell_type": "markdown",
   "metadata": {},
   "source": [
    "### Question 6"
   ]
  },
  {
   "cell_type": "code",
   "execution_count": 17,
   "metadata": {},
   "outputs": [
    {
     "name": "stdout",
     "output_type": "stream",
     "text": [
      "Top-3 actors whose movies lead to the largest maximum gap of years: Abbie Cornish, Anne Hathaway, Audrey Tautou, Ben Kingsley, Ben Whishaw, Bob Balaban, Brad Pitt, Bryce Dallas Howard, Chiwetel Ejiofor, Christian Bale, Christopher Plummer, Denzel Washington, Dominic West, Dustin Hoffman, Edward Norton, Ellen Burstyn, Emily Blunt, Eva Green, Gerard Butler, Hugh Jackman, Jack Davenport, Jennifer Aniston, Jennifer Connelly, Jeremy Irons, Jessica Biel, Johnny Depp, Judi Dench, Justin Theroux, Kang-ho Song, Kate Bosworth, Kevin Spacey, Kirsten Dunst, Luke Wilson, Marion Cotillard, Mark Wahlberg, Matt Damon, Maya Rudolph, Meryl Streep, Michelle Monaghan, Morgan Freeman, Owen Wilson, Paula Patton, Rachel Weisz, Russell Crowe, Sacha Baron Cohen, Samuel L. Jackson, Scarlett Johansson, Steve Carell, Tom Cruise, Tom Hanks, Toni Collette, Will Ferrell, Will Smith\n"
     ]
    }
   ],
   "source": [
    "print(\n",
    "    \"Top-3 actors whose movies lead to the largest maximum gap of years:\", \n",
    "    \", \".join(\n",
    "        actors_info[\"Year\"].apply(lambda x: max(x) - min(x)).nlargest(3, keep=\"all\").index\n",
    "    )\n",
    ")"
   ]
  },
  {
   "cell_type": "markdown",
   "metadata": {},
   "source": [
    "### Question 7"
   ]
  },
  {
   "cell_type": "code",
   "execution_count": 18,
   "metadata": {},
   "outputs": [
    {
     "name": "stdout",
     "output_type": "stream",
     "text": [
      "All actors who collaborate with Johnny Depp in direct and indirect ways: Rebecca Hall, Mia Wasikowska, Jack Davenport, Cillian Murphy, Timothy Spall, Lily-Rose Depp, Christian Stolte, Anne Hathaway, Penelope Cruz, Orlando Bloom, Alan Rickman, Morgan Freeman, Michelle Pfeiffer, Eva Green, Harley Quinn Smith, Jason Clarke, Geoffrey Rush, Keira Knightley, Armie Hammer, William Fichtner, Adam Brody, Christian Bale, Joel Edgerton, Tom Wilkinson, Ian McShane, Helena Bonham Carter, Dakota Johnson, Benedict Cumberbatch, Maria Dizzia, Christopher Evan Welch, Jeremy Renner, Allison Tolman, Jon Hamm, Tracy Letts, Jim Broadbent, Ben Affleck, Michael C. Hall, Jason Bateman, Scarlett Johansson, Ciaran Hinds, Javier Bardem, Eric Bana, Charlie Hunnam, Tom Hiddleston, Jessica Chastain, Jamie Bell, Michael Fassbender, Su Elliot, Rosamund Pike, David Oyelowo, Tom Felton, Brie Larson, Chris Evans, Amanda Seyfried, Justin Timberlake, Brian Caspe, Rose Byrne, Ben Whishaw, Sharlto Copley, Chris Hemsworth, Jamie Dornan, Karel Hermanek Jr., Michelle Yeoh, Brendan Gleeson, Olivia Wilde, Rachel Weisz, Andrew Scott, Hugh Jackman, Adrian Grenier, Karen Disher, Jason Sudeikis, Judy Greer, Jake Gyllenhaal, Bryan Greenberg, Tim Blake Nelson, Rene Russo, Patricia Clarkson, Anders Holm, George Lopez, Oliver Platt, Robert De Niro, Matthew McConaughey, Russell Crowe, Jesse Eisenberg, Candice Bergen, Tom Hardy, Tom Mison, Austin Stowell, Kate Hudson, Mackenzie Foy, Gary Oldman, Meryl Streep, Emily Blunt, Jim Sturgess, Woody Allen, Will Ferrell, Owen Wilson, Ellen Page, Cameron Diaz, Ben Stiller, Francesc Albiol, Aaron Paul, Barkhad Abdi, Dustin Hoffman, Helen Mirren, Ben Kingsley, Bruce Willis, Min-sik Choi, Ed Harris, Terence Stamp, Mary-Louise Parker, Andrea Riseborough, James McAvoy, Josh Hartnett, Olga Kurylenko, Casey Affleck, Lucy Liu, Michelle Monaghan, Tom Cruise, Gerard Butler, Aaron Eckhart, Angelina Jolie, Angela Bassett, Amr Waked, John D'Leo, Nikki Blonsky, Queen Latifah, John Travolta, Dianna Agron, Daniel Craig, Sullivan Stapleton, Hans Matheson, Samuel L. Jackson, Jeffrey Wright, Lena Headey, Judi Dench, Asa Butterfield, Ang Phula Sherpa, Arnold Schwarzenegger, Thomas M. Wright, Guy Pearce, Shia LaBeouf, Liana Liberato, Maggie Gyllenhaal, Emilia Clarke, Jamie Foxx, Jai Courtney, Channing Tatum, Catherine Keener, Clive Owen, Martin Henderson, Ewen Leslie, Nicholas Hope, Colin Firth, Derek Jacobi, Sam Neill, Donald Sutherland, Sylvia Hoeks, Matthew Macfadyen, Aaron Taylor-Johnson, Jude Law, Matthew Goode, Brenda Blethyn, Mark Ruffalo, Adam Levine, Saoirse Ronan, Kevin Costner, Hailee Steinfeld, Kenneth Branagh, Allen Leech, Chris Pine, Alicia Vikander, Elizabeth Debicki, Tom Cullen, Annabelle Wallis, Clint Dyer, Henry Cavill, Jon Voight, Noel Fisher, Lia Marie Johnson, Will Arnett, Gabriel Basso, Megan Fox, Johnny Simmons, Steve Carell, Mark Wahlberg, Cate Blanchett, Steve Zahn, Anton Yelchin, Michael Caine, Oscar Isaac, Natalie Portman, Charlotte Le Bon, Zach Grenier, Bradley Cooper, Jeremy Davies, Brad Pitt, Amy Adams, Melissa Leo, Zoe Saldana, Moon Bloodgood, Brian Dennehy, Sam Worthington, Ryan Gosling, Jennifer Lawrence, Sigourney Weaver, Woody Harrelson, Heath Ledger, Daniel Gimenez Cacho, Ruth Negga, Jennifer Morrison, Nick Nolte, Tobey Maguire, Chris Pratt, Adam Driver, Will Dalton, Leonardo DiCaprio, Mark Strong, Dean Mumford, Michael Shannon, Carey Mulligan, Kirsten Dunst, Jessica Brown Findlay, Idris Elba, Jeremy Irvine, Thandie Newton, Tyrese Gibson, Jason Statham, Joseph Fiennes, Joan Allen, John Hurt, Jack Black, Dwayne Johnson, Lily James, Richard Madden, Eloise Mumford, Leslie Mann, Matthias Schoenaerts, Jennifer Ehle, Ralph Fiennes, Rebel Wilson, Tilda Swinton, Alison Brie, Zachary Quinto, Benedict Wong, Chiwetel Ejiofor, Rachel McAdams, Simon Pegg, Brian Geraghty, Paula Patton, Robert Downey Jr., Robert Carlyle, Anthony Mackie, Harold Perrineau, Michael Stuhlbarg, Edward Norton, Forest Whitaker, Rebecca Ferguson, Scott Glenn, Pierre Coffin, Zach Galifianakis, Sandra Bullock, Isla Fisher, Michael Keaton, Gal Gadot, Sam Trammell, Daniel Radcliffe, Toni Collette, Gemma Jones, Sally Phillips, Emory Cohen, Renee Zellweger, Domhnall Gleeson, Anna Kendrick, Jon Bernthal, Alan Arkin, Tyler Perry, J.K. Simmons, Elle Fanning, Bryan Cranston, John Goodman, Chris Messina, Neil Patrick Harris, Jennifer Aniston, T.J. Miller, Jon Favreau, Michael Cera, George Clooney, Malin Akerman, Vince Vaughn, Jae Head, Ginnifer Goodwin, Charlize Theron, Jenny Slate, Charlie Day, Will Smith, Jennifer Garner, Vera Farmiga, Steve Wiebe, Olivia Munn, Lynsey Taylor Mackay, Sebastian Stan, Seth MacFarlane, Joseph Gordon-Levitt, Jeremy McWilliams, Reese Witherspoon, Robert Redford, Joaquin Phoenix, Tony Danza, Rooney Mara, Dougie McConnell, Julianne Moore, Elizabeth Berrington, Martin Stringer, Daniel Day-Lewis, Paul Dano, Miles Teller, Katey Sagal, Colin Farrell, Jasmine Trinca, Sean Penn, Tommy Lee Jones, Jared Harris, Adele Exarchopoulos, Naomie Harris, Josh Brolin, Aidan Turner, Theo James, Ben Foster, Vicky Krieps, Robert Pattinson, Rinko Kikuchi, Tom Holland, Sienna Miller, Luke Evans, Stellan Skarsgard, Anthony Hopkins, Jeremy Irons, Megan Charpentier, Kristen Wiig, Kate Mara, Matt Damon, Hunter McCracken, Nikolaj Coster-Waldau, Gugu Mbatha-Raw, Isabelle Nelisse, Imogen Poots, Michael B. Jordan, Charlotte Gainsbourg, Rachel Bilson, Mandy Gonzalez, Hayden Christensen, Elizabeth Banks, Eddie Marsan, Willem Dafoe, Frank Madigan, Nicholas Hoult, Noomi Rapace, James Badge Dale, Lucy Walters, Kevin Bacon, Andreas Wisniewski, Dominic West, Seth Rogen, Jack Madigan, Marion Cotillard, Logan Marshall-Green, Jeff Daniels, Kate Winslet, Michael Kenneth Williams, Florence Clery, Richard Jenkins, Werner Herzog, Nick Frost, David Strathairn, Liam Neeson, Martin Freeman, Madina Nalwanga, Martin Kabanza, Lupita Nyong'o, Lorraine Toussaint, Carmen Ejogo, Tim Roth, Jessica Lange, Bill Hader, Jacob Tremblay, Wendy Crewson, Ice Cube, Amy Schumer, Sean Bridgers, Colin Quinn, Jonah Hill, Alice Eve, Emma Fitzpatrick, John Cullum, Blythe Danner, Hayley Atwell, Ari Graynor, Anna Faris, Hugo Weaving, Pierce Brosnan, Jessica Barth, Mila Kunis, Andrew Garfield, Christopher Mintz-Plasse, Jenna Elfman, Zooey Deschanel, Lin Shaye, Quvenzhane Wallis, Lisa Kudrow, Patrick Wilson, Maya Rudolph, Aasif Mandvi, Terry Crews, Ty Simpkins, Melissa McCarthy, Chloe Grace Moretz, Zac Efron, Amber Heard, Eddie Redmayne, Tom Hanks, Alexander Black, Sarita Choudhury, Dev Patel, Haley Bennett, Danila Kozlovsky, David James, Elizabeth Olsen, Lesley Manville, Jodie Foster, Nathalie Boltt, Jessica Biel, Alice Braga, Jason Cope, Viola Davis, Fran Kranz, Leehom Wang, Josh Hutcherson, Wei Tang, Kristen Stewart, Anna Hutchison, Sam Claflin, Isabel Lucas, Kristen Connolly, Alexandra Maria Lara, Daniel Bruhl, Josh Peck, Jason O'Mara, Aiden Longworth, Michael McElhatton, Sarah Gadon, Brendan Fraser, Jessica Alba, Jet Li, Maria Bello, Rupert Grint, Bill Paxton, Emma Watson, Jeff Bridges, Bruce Boxleitner, Garrett Hedlund, Susan Sarandon, Sean Patrick Thomas, James Franco, Harvey Keitel, Jane Fonda, Michelle Williams, Jessica Barden, Ellen Burstyn, Olivia Colman, Ruth Wilson, Nicholas Galitzine, Moe Dunford, Fionn O'Shea, Levi Miller, Elijah Wood, Will Yun Lee, Robin Williams, Jo Hartley, Ian McKellen, Eddie Baroo, Danny Huston, Taron Egerton, Liev Schreiber, Patrick Stewart, Nicole Kidman, Shea Adams, Halle Berry, Brittany Murphy, Tao Okamoto, Evangeline Lilly, Dakota Goyo, Tom Costello, Ryan Reynolds, Rila Fukushima, Famke Janssen, Kevin Dillon, Kevin Connolly, Jerry Ferrara, Emma Roberts, Jordan Carlos, Josh Gad, Ed Helms, Margarita Levieva, Danny McBride, Julia Roberts, Bryce Dallas Howard, Oona Laurence, Isabella Rossellini, Anthony Edwards, Gemma Arterton, Alfred Molina, America Ferrera, Chris Cooper, Judah Lewis, Melanie Laurent, Riz Ahmed, Naomi Watts, Michael Pena, Kerry Bishe, Charlie Heaton, Dan Stevens, Usher Raymond, Anna Friel, Edgar Ramirez, Ruben Blades, Zoey Deutch, Aubrey Plaza, Jacki Weaver, Edie Falco, Danny DeVito, Abbie Cornish, Alexis Dziena, Alex Pettyfer, Ken Watanabe, Keri Russell, Art Parkinson, Margot Robbie, Corey Stoll, Ryoko Seta, Jared Leto, Mahershala Ali, Angourie Rice, Denzel Washington, Jennifer Connelly, Albert Finney, Golshifteh Farahani, Matt Bomer, Max von Sydow, Dave Franco, Emma Stone, Abigail Breslin, Blake Lively, Common, Joel Kinnaman, James Gandolfini, Til Schweiger, Will Poulter, Paul Anderson, Zoe Kravitz, Emily Browning, Kelly Adams, Luing Andrews, Katy Barker, Kodi Smit-McPhee, Andy Serkis, Ray Stevenson, Bill Murray, Taylor Swift, Hugh Grant, Jason Schwartzman, Simon Helberg, Brenton Thwaites, Justin Theroux, Florence Kastriner, Lisa Thoreson, Benicio Del Toro, Kate Bosworth, Joe Anderson, Kevin Spacey, Evan Rachel Wood, Aaron Yoo, Dana Fuchs, Kevin Hart, Tina Fey, Mary Steenburgen, John C. Reilly, Sacha Baron Cohen, Eva Mendes, Thomas Haden Church, Linda Cardellini, Gary Cole, Derek Jeter, T.I., Chatchawai Kamonsakpitak, Bonnie Hunt, Paul Newman, Lake Bell, Ross Kimball, Kurt Fuller, Katherine Waterston, Larry the Cable Guy, Dick Van Dyke, Kathy Bates, Emily Mortimer, Liv Tyler, Callum Keith Rennie, Max Minghella, Rainn Wilson, Rob Corddry, Ellie Kemper, Dennis Quaid, Matthew Morrison, Kate Upton, J. Todd Smith, Jason Segel, Jerry Stiller, Jeff Kahn, Kathryn Hahn, Jon Daly, Dominic Cooper, Scott Mescudi, Barkhad Abdirahman, Billy Crystal, Katie Holmes, Steve Buscemi, Natalie Martinez, Felicity Jones, Neel Sethi, Christopher Lee, Kara Hayward, Maggie Q, Jared Gilman, Justin Long, Timothy Olyphant, Orto Ignatiussen, Sam Shepard, Essie Davis, Julian Barratt, Haley Lu Richardson, Vincent Cassel, Danny Sapani, Anya Taylor-Joy, Jessica Sula, Rosario Dawson, Mathieu Amalric, Lucas Hedges, Kyle Chandler, Peter Dinklage, Kevin James, Luke Bracey, Ving Rhames, Adam Sandler, James Marsden, Philip Seymour Hoffman, Michael Chiklis, Julianne Hough, Alec Baldwin, Robert Knepper, Cobie Smulders, Diego Boneta, Aldis Hodge, Eric Winter, Chadwick Boseman, Craig Ferguson, Gretchen Mol, David Wenham, Harry Connick Jr., Bree Turner, Jay Baruchel, Katherine Heigl, Leslie Bibb, Colm Meaney, Hilary Swank, Valerie Mahaffey, Laura Linney, Colm Feore, Ray Winstone, Daniel Olbrychski, Robin Wright, Crispin Glover, Gattlin Griffith, Amy Ryan, Teresa Palmer, Christopher Plummer, Christoph Waltz, Dakota Blue Richards, Lea Seydoux, Ben Walker, Julianna Margulies, Nathan Phillips, Walton Goggins, Kurt Russell, Jennifer Jason Leigh, Paul Birchard, Rachel Blanchard, Mary McCormack, John Cusack, Paul Giamatti, Bob Balaban, Ethan Hawke, Karl Urban, Max Burkholder, Olivia Thirlby, Richard Dreyfuss, Rachel Wood, Adelaide Kane, Rupert Friend, Harrison Ford, David Thewlis, Zac Mattoon O'Brien, Sylvester Stallone, 50 Cent, Vincent D'Onofrio, Carice van Houten, Dakota Fanning, Don Cheadle, Kit Harington, Gwyneth Paltrow, Stacy Martin, David Morse, Sasha Lane, McCaul Lombardi, Carrie-Anne Moss, Josh Duhamel, Sarah Roemer, Karen Allen, Riley Keough, Logan Lerman, Rosie Huntington-Whiteley, Janet McTeer, Charles Dance, Kerry Washington, Lois van Wijk, Shailene Woodley, Ron Perlman, Adrianne Palicki, Diego Luna, Marlon Wayans, Amanda Bynes, Adam Rodriguez, Joe Manganiello, Vinnie Jones, Damaine Radcliff, Jenna Dewan Tatum, Adewale Akinnuoye-Agbaje, Byung-hun Lee, Sean Bean, Laura Ramsey, Nick Offerman, De'Shawn Washington, Emile Hirsch, Marcia Gay Harden, Kylie Rogers, Brighton Sharbino, Rachael Blake, Bridgette Barrett, Alessandro Nivola, James Hamrick, Rachel House, Rima Te Wiata, Julian Dennison, Milla Jovovich, Garrett M. Brown, Taylor Kitsch, Jim Carrey, Nicolas Cage, Jake Abel, Max Irons, Diane Kruger, Demi Moore, Connie Nielsen, William Hurt, Octavia Spencer, Taraji P. Henson, Janelle Monae, Dane Cook, Brittany Snow, Kyra Sedgwick, Blake Jenner, Leonard Nimoy, Gil Birmingham, Ethan Suplee, Ben Barnes, Sonoya Mizuno, Tony Amendola, Alfre Woodard, Ward Horton, Diane Lane, Mickey Rourke, Stephen Dorff, Logan Paul, Peyton List, Calum Worthy, Keanu Reeves, Nick Robinson, Moises Arias, Clifton Collins Jr., David Acord, Gabriel Luna, Dylan Minnette, Julie Andrews, Ed Oxenbould, Greg Kinnear, Benjamin Bratt, Miranda Cosgrove, Russell Brand, Jack Nicholson, Ashlyn Sanchez, Jack Reynor, Nicola Peltz, James DuMont, Joel McHale, Stanley Tucci, Rhona Mitra, John Leguizamo, Tony Shalhoub, Douglas M. Griffin, Danny Glover, Gael Garcia Bernal, Sally Hawkins, Mohamed Akhzam, Peter Sarsgaard, Sarah Paulson, Julia Ormond, Richard Armitage, Zachary Gordon, Devon Bostick, Rachael Harris, Robert Capron, Alia Shawkat, Daisy Ridley, John Boyega, Kevin Kline, Billy Crudup, Winona Ryder, Rasmus Hardiker, Cary Elwes, Ashton Kutcher, Greta Gerwig, Oona Chaplin, Romain Duris, Guillaume Baillargeon, Tom Hughes, Barry Ward, Jalil Lespert, Camille Cottin, Emilie Leclerc, Kelly Reilly, Vin Diesel, Craig Van Hook, Cole Konis, Brooke Shields, Justin Bartha, Kyle Gallner, Riccardo Scamarcio, Daniella Kertesz, Vincent Ebrahim, Mireille Enos, Michael Mantell, Eli Roth, Jesse Plemons, Patrick Dempsey, Michelle Rodriguez, Jason Flemyng, Giovanni Ribisi, Frank Langella, John Doman, Lily Rabe, Rosemarie DeWitt, Albert Brooks, Faith Wladyka, Isaiah Stone, Michael Sheen, Laurence Fishburne, Liam Hemsworth, John Hawkes, Garret Dillahunt, Lewis MacDougall, Toby Kebbell, Anthony LaPaglia, Christopher Walken, Sam Rockwell, Michael Ealy, Lily Cole, Topher Grace, Megan Park, Zoe Kazan, Tadanobu Asano, Rizwan Manji, Nellie, Jonathan Roumie, Kagiso Kuypers, Christopher Fitzgerald, Djimon Hounsou, Freddie Crowder, Kiefer Sutherland, Rip Torn, Alexander Skarsgard, Judy Davis, Hermione Corfield, Addison Timlin, Joely Richardson, Joseph Mawle, Jaden Smith, Amanda Peet, Brian Howe, Anika Noni Rose, Antonio Banderas, Dolph Lundgren, Paul Walker, Julia Stiles, Richard Gere, Cary-Hiroyuki Tagawa, Ryan Lee, Odeya Rush, Auli'i Cravalho, Carla Gugino, Mauricio Lopez, Maggie Grace, Jordana Brewster, Danielle Nicolet, Colton Haynes, Billy Bob Thornton, Temuera Morrison, Alexandra Daddario, Bella Heathcote, Jack Huston, Sam Riley, Paul Rudd, Maude Apatow, Iris Apatow, Thomas Lennon, Matthew Perry, Duncan Duff, Cynthia Nixon, Keith Carradine, F. Murray Abraham, Alden Ehrenreich, Adrien Brody, Anna Camp, Ezra Miller, Jasper Newell, Dean Norris, Bill Nighy, Lydia Wilson, Kate Beckinsale, Rob Riggle, Mia Stallard, Sanjeev Bhaskar, Mariah Carey, Gabourey Sidibe, Travis Fimmel, Jim Caviezel, Val Kilmer, Mo'Nique, David Spade, Terrence Howard, Robert Duvall, Derek Luke, Jamal Woolard, Momo Dione, Rufus Sewell, Oprah Winfrey, Imelda Staunton, Quinton Aaron, Michael McDonald, Tim McGraw, Craig T. Nelson, Demian Bichir, John Carroll Lynch, Michael Gambon, Juno Temple, Mary Elizabeth Winstead, Antonia Ribero, Bel Powley, Stephen Moyer, Tye Sheridan, Miyavi, Jack O'Connell, James Ransone, Adam Devine, Olivia Williams, Ewan McGregor, Eddie Izzard, Paul Reiser, Lewis Black, Melissa Benoist, Luke Wilson, Carly Rae Jepsen, Annette Bening, Karl Glusman, Christina Hendricks, AJ Michalka, Dane DeHaan, Maddie Ziegler, Joel Courtney, Bokeem Woodbine, Beverly D'Angelo, Nadine Velazquez, John Gallagher Jr., Andy Samberg, Trenton Rogers, Katie Crown, Kelsey Grammer, Morgan Lily, Joey Lauren Adams, Brooklyn Decker, Morena Baccarin, Lizzy Caplan, Jessica Lucas, Scott Adsit, Thomas Middleditch, Jamie Chung, Ed Skrein, Mike Vogel, Shannon Woodward, Adam Pally, Ryan Potter, Alison Pill, Kieran Culkin, Hugh Laurie, Nick Krause, Raffey Cassidy, Britt Robertson, Amara Miller, Jackie Earle Haley, Viggo Mortensen, Salli Richardson-Whitfield, Jemaine Clement, Adrian Martinez, Sophie Okonedo, David Denman, Rodrigo Santoro, Charlie Tahan, Cheryl Hines, Robbie Amell, Isabelle Fuhrman, Lili Taylor, Madison Wolfe, Frances O'Connor, Ron Livingston, CCH Pounder, Geoffrey Arend, Sally Field, Gaby Hoffmann, Michiel Huisman, Laura Dern, Oakes Fegley, Sunny Pawar, Gabriella Wilde, Portia Doubleday, Gregg Weiner, Steve Lantz, Jeffrey Dean Morgan, Emma Thompson, Annie Rose Buckley, Aurelien Recoing, Salim Kechiouche, Freddy Rodriguez, Rose McGowan, Marley Shelton, Tessa Thompson, Tobias Menzies, Ansel Elgort, Lara Pulver, Irrfan Khan, Antje Traue, Cam Gigandet, Billy Burke, Xavier Samuel, Moises Acevedo, Sarah Clarke, Caitlyn Rund, Emilie de Ravin, Peter Facinelli, Taylor Lautner, Oaklee Pendergast, Charlie Cox, Claire Danes, Malcolm Sinclair, Karolina Gruszka, Raghuvir Joshi, Alistair Abell, Kate McKinnon, Leslie Jones, Rose Leslie, Amber Tamblyn, Michael Yare, Sean Bott, Andy Lau, Tian Jing, Phylicia Rashad, Storm Acheche Sahlstrom, Marton Csokas, Kati Outinen, Lior Ashkenazi, Nathan Fillion, Don Thompson, Craig Robinson, Michael Rooker, Gerry Bednob, Samantha Morton, Alfie Allen, Michael Nyqvist, Lynn Collins, Vernetta Lopez, Scott Lawrence, John Malkovich, Analeigh Tipton, Peter Stormare, Ewa Froling, Lena Endre, Bruce Greenwood, Max Martini, Pablo Schreiber, John Krasinski, Randall Park, Nathalie Baye, Emayatzy Corinealdi, Tammy Blanchard, Matthew Fox, Cara Buono, Leland Orser, David Harbour, Boyd Holbrook, Aidan Quinn, Rihanna, January Jones, Ken Stott, Michael Pitt, Brady Corbet, Mindy Kaling, Amy Poehler, Annabeth Gish, Thomas Jane, Eve, Anthony Anderson, Regina Hall, Taylor Schilling, Riley Thomas Stewart, Kat Dennings, Colin Hanks, Dan Fogler, Karen Moskow, Kai Ryssdal, Jason Barry, Christina Applegate, Kristen Bell, Rhys Ifans, AnnaSophia Robb, Robert Patrick, Natasha Henstridge, Dominique Swain, Lukas Hassel, Vincent Kartheiser, Dax Shepard, Ike Barinholtz, Jorge Garcia, Ella Anderson, Jamie Blackley, Joshua Leonard, Bailey Anne Borders, Gabriela Lopez, Matthew Zuk, Emily Ratajkowski, Jonny Weston, Wes Bentley, Sean Faris, Sophie Perry, Tom Prior, Alison Sudol, Mark Rylance, Tim Allen, Jean Reno, Alan Alda, Joan Cusack, Audrey Tautou, Ned Beatty, Jackson Rathbone, Saurabh Shukla, Noah Ringer, Freida Pinto, Anil Kapoor, Steve Tom, Lily Collins, Taissa Farmiga, Gabriel Byrne, Lucy Fry, Hayden Panettiere, Jovan Adepo, Catalina Sandino Moreno, Stephen Henderson, Alice Englert, Anders Danielsen Lie, Sigrid Bouaziz, Lars Eidinger, Michael Dickson, Jennifer Koenig, Andrea Whitburn, Christian Cooke, Jaime Winstone, Richenda Carey, Brian Cox, Ophelia Lovibond, Sue Dahlman, Tijuana Ricks, Josh Brener, Gabriel Bateman, Andy Garcia, Ben Winchell, Sophie Nelisse, Josh Wiggins, Joe Cobden, Dale Dickey, Joe Alwyn, Arturo Castro, Mason Lee, Tangie Ambrose, Karin Konoval, Selena Gomez, Nat Wolff, Cedric the Entertainer, Kristin Scott Thomas, Eric Godon, Paula Prentiss, Lucy Boynton, ?lafur Darri ?lafsson, Elisabeth Moss, Stephen Merchant, Michael Douglas, Emily Meade, Lauren Holly, Miles Heizer, Kiernan Shipka, Idina Menzel, Jonathan Groff, Skyler Gisondo, Steele Stebbins, Paddy Considine, Dominique Tipper, Glenn Close, Annabelle Attanasio, Nancy Kwan, Billie Piper, Cush Jumbo, James Floyd, Armin Mueller-Stahl, Josef Altin, James Frecheville, Maika Monroe, Joel David Moore, Sheila Kelley, Israel Broussard, Mateo Arias, Nicholas Braun, Ryan Guzman, Tyler Hoechlin, Vanessa Hudgens, Diego Klattenhoff, Dermot Mulroney, Jena Malone, Freddie Highmore, Jonathan Rhys Meyers, Linh Dan Pham, Sarah Polley, Duan Sanderson, Shariff Earp, Alex R. Hibbert, Peter Riegert, Dan Byrd, Penn Badgley, Alexander Ludwig, Logan Huffman, Brett Cullen, Angelo Josue Lozano Corzo, Kathy Baker, ?scar Jaenada, Kaya Scodelario, Thomas Brodie-Sangster, Dylan O'Brien, Karen Gillan, Rory Cochrane, Katee Sackhoff, Brandon Routh, Rosie Shaw, Dominique McElligott, Eric Stonestreet, Louis C.K., Toby Jones, Jane Lynch, Sarah Silverman, Salma Hayek, Jack McBrayer, Sam Elliott, Matt Long, Luke Kleintank, Lauren Graham, Scott Speedman, Gemma Ward, Alex Fisher, Andie MacDowell, Lucas Black, Charles S. Dutton, Paul Bettany, Kenny Wormald, Alan Tudyk, Donnie Yen, Michael Parks, Haley Joel Osment, Genesis Rodriguez, Hayley McElhinney, Daniel Henshall, Noah Wiseman, Julian Richings, Kate Dickie, Ralph Ineson, Zoe Bell, Vanessa Ferlito, Chris Rock, Elisabeth Shue, Jerry O'Connell, Emmanuelle Chriqui, Wendi McLendon-Covey, John Turturro, Kevin Nealon, Nick Swardson, Drew Barrymore, Wentworth Miller, David Lyons, Linda Gegusch, Arnaud Viard, Nicole Beharie, T.R. Knight, Josh Lucas, Alexis Clagett, Benjamin Walker, Jordan Nagai, John Ratzenberger, Edward Asner, Christian Stevens, Rory J. Saper, Danny Trejo, Ellar Coltrane, Madeleine West, Noah Taylor, Sarah Snook, Kari Matchett, Elijah Smith, Patricia Arquette, Zachary Bennett, Juliet Rylance, Fred Dalton Thompson, Jordi Moll?, Milo Ventimiglia, Graham McTavish, Randy Couture, Burt Young, Julie Benz, Antonio Tarver, Jean-Claude Van Damme, Matthew Marsden, Jennifer Saunders, John Hodgman, Teri Hatcher, Cary Joji Fukunaga, Jessie Ok Gray, Steve Coogan, Kevin McKidd, Brandon T. Jackson, Jason Momoa, Doug Jones, John Alexander, Donna Murphy, Mandy Moore, Zachary Levi, Stephen Lang, Selma Blair, Mel Gibson, Erin Moriarty, Ji-min Han, Kang-ho Song, Yoo Gong, Laurie Holden, Radha Mitchell, Deborah Kara Unger, Thomas Mann, RJ Cyler, Olivia Cooke, Andre Braugher, Aryana Engineer, Kim Coates, Sienna Guillory, Shawn Roberts, Ali Larter, Iain Glen, Matt Lanter, Tom Sizemore, Wenwen Han, Jackie Chan, Lorenza Izzo, Aaron Burns, Christopher McDonald, Mira Sorvino, Ana de Armas, Lorraine Nicholson, Daniel Eric Gold, Callan McAuliffe, Daniel Zovatto, Jane Levy, Deanna Dunagan, Olivia DeJonge, Peter McRobbie, Aidan Gillen, Ferdia Walsh-Peelo, Maria Doyle Kennedy, Steven Mackintosh, Ray Romano, Denis Leary, Chris Wedge, Andrew Simpson, Mia Goth, Martin McCann, Morgan Saylor, Brian Marc, Tyler James Williams, Teyonah Parris, Ellen DeGeneres, Kaitlin Olson, Ed O'Neill, Jeff Goldblum, Bill Pullman, Nazanin Boniadi, Stephen Rea, India Eisley, C.H. Evans, Sandra Kinder, Chris Isaak, Bruno Campos, Keith David, Marisa Paredes, Jan Cornet, Elena Anaya, Scott Eastwood, Trey Songz, Tania Raymonde, Lucas Till, Barry Pepper, Kim Cattrall, Sarah Jessica Parker, Kristin Davis, Duncan Joiner, Emma Greenwell, Mel Raido, Chloe Sevigny, Damon Wayans Jr., Nina Dobrev, Jake Johnson, Gabriel Chavarria, Tony Revolori, Theo Rossi, Logan Miller, Joey Morgan, Sarah Dumont, Klara Kristin, Aomi Muyock, Juan Saavedra, Ivo Nandi, Jason Isaacs, Michael Vartan, Ronnie Gene Blevins, Samantha Sloyan, Adria Arjona, John C. McGinley, Kate Siegel, Tony Goldwyn, Michael Trucco, Akiva Schaffer, Jorma Taccone, Lou Taylor Pucci, Shiloh Fernandez, Victoria Justice, Natascha McElhone, Eddie Murphy, George MacKay, Annalise Basso, Samantha Isler, Taika Waititi, Penelope Wilton, Jonny Brugh, Ruby Barnhill, Cori Gonzalez-Macuer, Allison Janney, Bella Thorne, Mae Whitman, Tyne Daly, Max Greenfield, Billy Connolly, Kelly Macdonald, Julie Walters, Tabu, Adil Hussain, Suraj Sharma, Kathleen Quinlan, Ted Levine, Sofia Black-D'Elia, Travis Tope, Michael Kelly, Laura Allen, Andy Powers, Christian Distefano, Jim Parsons, Steve Martin, Jennifer Lopez, Brit Marling, Steven Yeun, Astrid Berges-Frisbey, Lambert Wilson, Laurent Lucas, Pierre Niney, Robert Sheehan, Jamie Campbell Bower, Jemima West, Ashley Benson, Rachel Korine, Justice Smith, Cara Delevingne, Austin Abrams, Olivia Luccardi, Lili Sepe, Keir Gilchrist, John Corbett, Kristin Chenoweth, Giancarlo Esposito, Shad Moss, Damien Marzette, Zachery Ty Bryan, Alain Moussi, Gina Carano, Dave Bautista, Hee-Bong Byun, Doona Bae, Hae-il Park, Yu-mi Jung, Dong-seok Ma, Soo-an Kim, Oliver Cooper, Dax Flame, Jonathan Daniel Brown, Ni Ni, Mark Chao, Carmen Electra, Vanessa Lachey, Nicole Parker, Ariel Levy, Kirby Bliss Blanton, Kiersey Clemons, Shameik Moore, Kimberly Elise, Bill Engvall, Josh Stewart, Alex Essoe, Lulu Wilson, Henry Thomas, Elizabeth Reaser, Rabah Nait Oufella, Garance Marillier, Ella Rumpf, Paula Beer, Marie Gruber, Ernst Stotzner, Lainie Kazan, Michael Constantine, Nia Vardalos\n"
     ]
    }
   ],
   "source": [
    "final_collaborate_actors_set = set(datas[\"Actors\"][datas[\"Actors\"].apply(lambda x: \"Johnny Depp\" in x)].explode())\n",
    "final_collaborate_actors_list = list(final_collaborate_actors_set)\n",
    "\n",
    "for actor in final_collaborate_actors_list:\n",
    "    difference = set(datas[\"Actors\"][datas[\"Actors\"].apply(lambda x: actor in x)].explode()) - final_collaborate_actors_set  # get difference between 2 sets\n",
    "    if difference:  # difference != {}\n",
    "        final_collaborate_actors_list += difference\n",
    "        final_collaborate_actors_set |= difference\n",
    "\n",
    "final_collaborate_actors_list.remove(\"Johnny Depp\")\n",
    "\n",
    "print(\n",
    "    \"All actors who collaborate with Johnny Depp in direct and indirect ways:\", \n",
    "    \", \".join(final_collaborate_actors_list), \n",
    ")"
   ]
  }
 ],
 "metadata": {
  "kernelspec": {
   "display_name": "game_AI",
   "language": "python",
   "name": "python3"
  },
  "language_info": {
   "codemirror_mode": {
    "name": "ipython",
    "version": 3
   },
   "file_extension": ".py",
   "mimetype": "text/x-python",
   "name": "python",
   "nbconvert_exporter": "python",
   "pygments_lexer": "ipython3",
   "version": "3.9.18"
  }
 },
 "nbformat": 4,
 "nbformat_minor": 2
}
